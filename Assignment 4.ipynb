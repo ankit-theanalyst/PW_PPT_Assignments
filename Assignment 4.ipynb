{
  "metadata": {
    "language_info": {
      "codemirror_mode": {
        "name": "python",
        "version": 3
      },
      "file_extension": ".py",
      "mimetype": "text/x-python",
      "name": "python",
      "nbconvert_exporter": "python",
      "pygments_lexer": "ipython3",
      "version": "3.8"
    },
    "kernelspec": {
      "name": "python",
      "display_name": "Python (Pyodide)",
      "language": "python"
    }
  },
  "nbformat_minor": 4,
  "nbformat": 4,
  "cells": [
    {
      "cell_type": "markdown",
      "source": "**Question 1**\nGiven three integer arrays arr1, arr2 and arr3 **sorted** in **strictly increasing** order, return a sorted array of **only** the integers that appeared in **all** three arrays.\n\n**Example 1:**\n\nInput: arr1 = [1,2,3,4,5], arr2 = [1,2,5,7,9], arr3 = [1,3,4,5,8]\n\nOutput: [1,5]\n\n**Explanation:** Only 1 and 5 appeared in the three arrays.",
      "metadata": {}
    },
    {
      "cell_type": "code",
      "source": "def find_common_elements(arr1, arr2, arr3):\n    p1, p2, p3 = 0, 0, 0\n    result = []\n\n    while p1 < len(arr1) and p2 < len(arr2) and p3 < len(arr3):\n        if arr1[p1] == arr2[p2] == arr3[p3]:\n            result.append(arr1[p1])\n            p1 += 1\n            p2 += 1\n            p3 += 1\n        elif arr1[p1] < min(arr2[p2], arr3[p3]):\n            p1 += 1\n        elif arr2[p2] < min(arr1[p1], arr3[p3]):\n            p2 += 1\n        else:\n            p3 += 1\n\n    return result\n",
      "metadata": {
        "trusted": true
      },
      "execution_count": 2,
      "outputs": []
    },
    {
      "cell_type": "code",
      "source": "arr1 = [1, 2, 3, 4, 5]\narr2 = [1, 2, 5, 7, 9]\narr3 = [1, 3, 4, 5, 8]\nresult = find_common_elements(arr1, arr2, arr3)\nprint(result)\n",
      "metadata": {
        "trusted": true
      },
      "execution_count": 3,
      "outputs": [
        {
          "name": "stdout",
          "text": "[1]\n",
          "output_type": "stream"
        }
      ]
    },
    {
      "cell_type": "markdown",
      "source": "\n💡 **Question 2**\n\nGiven two **0-indexed** integer arrays nums1 and nums2, return *a list* answer *of size* 2 *where:*\n\n- answer[0] *is a list of all **distinct** integers in* nums1 *which are **not** present in* nums2*.*\n- answer[1] *is a list of all **distinct** integers in* nums2 *which are **not** present in* nums1.\n\n**Note** that the integers in the lists may be returned in **any** order.\n\n**Example 1:**\n\n**Input:** nums1 = [1,2,3], nums2 = [2,4,6]\n\n**Output:** [[1,3],[4,6]]\n\n**Explanation:**\n\nFor nums1, nums1[1] = 2 is present at index 0 of nums2, whereas nums1[0] = 1 and nums1[2] = 3 are not present in nums2. Therefore, answer[0] = [1,3].\n\nFor nums2, nums2[0] = 2 is present at index 1 of nums1, whereas nums2[1] = 4 and nums2[2] = 6 are not present in nums2. Therefore, answer[1] = [4,6].\n",
      "metadata": {}
    },
    {
      "cell_type": "code",
      "source": "def find_disjoint_elements(nums1, nums2):\n    set1 = set(nums1)\n    set2 = set(nums2)\n\n    not_in_nums2 = [num for num in nums1 if num not in set2]\n    not_in_nums1 = [num for num in nums2 if num not in set1]\n\n    return [not_in_nums1, not_in_nums2]\n",
      "metadata": {
        "trusted": true
      },
      "execution_count": 4,
      "outputs": []
    },
    {
      "cell_type": "code",
      "source": "nums1 = [1, 2, 3]\nnums2 = [2, 4, 6]\nresult = find_disjoint_elements(nums1, nums2)\nprint(result)\n",
      "metadata": {
        "trusted": true
      },
      "execution_count": 5,
      "outputs": [
        {
          "name": "stdout",
          "text": "[[4, 6], [1, 3]]\n",
          "output_type": "stream"
        }
      ]
    },
    {
      "cell_type": "markdown",
      "source": "<aside>\n💡 **Question 3**\nGiven a 2D integer array matrix, return *the **transpose** of* matrix.\n\nThe **transpose** of a matrix is the matrix flipped over its main diagonal, switching the matrix's row and column indices.\n\n**Example 1:**\n\nInput: matrix = [[1,2,3],[4,5,6],[7,8,9]]\n\nOutput: [[1,4,7],[2,5,8],[3,6,9]]\n\n</aside>",
      "metadata": {}
    },
    {
      "cell_type": "code",
      "source": "def transpose(matrix):\n    transpose = []\n\n    for j in range(len(matrix[0])):\n        row = []\n        for i in range(len(matrix)):\n            row.append(matrix[i][j])\n        transpose.append(row)\n\n    return transpose\n",
      "metadata": {
        "trusted": true
      },
      "execution_count": 6,
      "outputs": []
    },
    {
      "cell_type": "code",
      "source": "matrix = [[1, 2, 3], [4, 5, 6], [7, 8, 9]]\nresult = transpose(matrix)\nprint(result)\n",
      "metadata": {
        "trusted": true
      },
      "execution_count": 7,
      "outputs": [
        {
          "name": "stdout",
          "text": "[[1, 4, 7], [2, 5, 8], [3, 6, 9]]\n",
          "output_type": "stream"
        }
      ]
    },
    {
      "cell_type": "markdown",
      "source": "<aside>\n💡 **Question 4**\nGiven an integer array nums of 2n integers, group these integers into n pairs (a1, b1), (a2, b2), ..., (an, bn) such that the sum of min(ai, bi) for all i is **maximized**. Return *the maximized sum*.\n\n**Example 1:**\n\nInput: nums = [1,4,3,2]\n\nOutput: 4\n\n**Explanation:** All possible pairings (ignoring the ordering of elements) are:\n\n1. (1, 4), (2, 3) -> min(1, 4) + min(2, 3) = 1 + 2 = 3\n\n2. (1, 3), (2, 4) -> min(1, 3) + min(2, 4) = 1 + 2 = 3\n\n3. (1, 2), (3, 4) -> min(1, 2) + min(3, 4) = 1 + 3 = 4\n\nSo the maximum possible sum is 4.\n\n</aside>",
      "metadata": {}
    },
    {
      "cell_type": "code",
      "source": "def array_pair_sum(nums):\n    nums.sort()\n    max_sum = 0\n\n    for i in range(0, len(nums), 2):\n        max_sum += nums[i]\n\n    return max_sum\n",
      "metadata": {
        "trusted": true
      },
      "execution_count": 8,
      "outputs": []
    },
    {
      "cell_type": "code",
      "source": "nums = [1, 4, 3, 2]\nresult = array_pair_sum(nums)\nprint(result)\n",
      "metadata": {
        "trusted": true
      },
      "execution_count": 9,
      "outputs": [
        {
          "name": "stdout",
          "text": "4\n",
          "output_type": "stream"
        }
      ]
    },
    {
      "cell_type": "markdown",
      "source": "\n💡 **Question 5**\nYou have n coins and you want to build a staircase with these coins. The staircase consists of k rows where the ith row has exactly i coins. The last row of the staircase **may be** incomplete.\n\nGiven the integer n, return *the number of **complete rows** of the staircase you will build*.\n\n**Example 1:**\n\n**Input:** n = 5\n\n**Output:** 2\n\n**Explanation:** Because the 3rd row is incomplete, we return 2.\n",
      "metadata": {}
    },
    {
      "cell_type": "code",
      "source": "def arrange_coins(n):\n    rows = 0\n    i = 1\n\n    while (i * (i + 1)) // 2 <= n:\n        rows += 1\n        i += 1\n\n    return rows\n",
      "metadata": {
        "trusted": true
      },
      "execution_count": 10,
      "outputs": []
    },
    {
      "cell_type": "code",
      "source": "n = 5\nresult = arrange_coins(n)\nprint(result)\n",
      "metadata": {
        "trusted": true
      },
      "execution_count": 11,
      "outputs": [
        {
          "name": "stdout",
          "text": "2\n",
          "output_type": "stream"
        }
      ]
    },
    {
      "cell_type": "markdown",
      "source": "<aside>\n💡 **Question 6**\nGiven an integer array nums sorted in **non-decreasing** order, return *an array of **the squares of each number** sorted in non-decreasing order*.\n\n**Example 1:**\n\nInput: nums = [-4,-1,0,3,10]\n\nOutput: [0,1,9,16,100]\n\n**Explanation:** After squaring, the array becomes [16,1,0,9,100].\nAfter sorting, it becomes [0,1,9,16,100]\n\n</aside>",
      "metadata": {}
    },
    {
      "cell_type": "code",
      "source": "def sorted_squares(nums):\n    result = []\n\n    for num in nums:\n        result.append(num * num)\n\n    result.sort()\n\n    return result\n",
      "metadata": {
        "trusted": true
      },
      "execution_count": 12,
      "outputs": []
    },
    {
      "cell_type": "code",
      "source": "nums = [-4, -1, 0, 3, 10]\nresult = sorted_squares(nums)\nprint(result)\n",
      "metadata": {
        "trusted": true
      },
      "execution_count": 13,
      "outputs": [
        {
          "name": "stdout",
          "text": "[0, 1, 9, 16, 100]\n",
          "output_type": "stream"
        }
      ]
    },
    {
      "cell_type": "markdown",
      "source": "<aside>\n💡 **Question 7**\nYou are given an m x n matrix M initialized with all 0's and an array of operations ops, where ops[i] = [ai, bi] means M[x][y] should be incremented by one for all 0 <= x < ai and 0 <= y < bi.\n\nCount and return *the number of maximum integers in the matrix after performing all the operations*\n\n**Example 1:**\n\n![q4.jpg](https://s3-us-west-2.amazonaws.com/secure.notion-static.com/4d0890d0-7bc7-4f59-be8e-352d9f3c1c52/q4.jpg)\n\n**Input:** m = 3, n = 3, ops = [[2,2],[3,3]]\n\n**Output:** 4\n\n**Explanation:** The maximum integer in M is 2, and there are four of it in M. So return 4.\n\n</aside>",
      "metadata": {}
    },
    {
      "cell_type": "code",
      "source": "def max_count(m, n, ops):\n    min_rows = m\n    min_cols = n\n\n    for op in ops:\n        min_rows = min(min_rows, op[0])\n        min_cols = min(min_cols, op[1])\n\n    return min_rows * min_cols\n",
      "metadata": {
        "trusted": true
      },
      "execution_count": 14,
      "outputs": []
    },
    {
      "cell_type": "code",
      "source": "m = 3\nn = 3\nops = [[2, 2], [3, 3]]\nresult = max_count(m, n, ops)\nprint(result)\n",
      "metadata": {
        "trusted": true
      },
      "execution_count": 15,
      "outputs": [
        {
          "name": "stdout",
          "text": "4\n",
          "output_type": "stream"
        }
      ]
    },
    {
      "cell_type": "code",
      "source": "",
      "metadata": {},
      "execution_count": null,
      "outputs": []
    }
  ]
}