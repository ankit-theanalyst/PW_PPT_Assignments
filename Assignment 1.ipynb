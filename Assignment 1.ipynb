{
  "metadata": {
    "language_info": {
      "codemirror_mode": {
        "name": "python",
        "version": 3
      },
      "file_extension": ".py",
      "mimetype": "text/x-python",
      "name": "python",
      "nbconvert_exporter": "python",
      "pygments_lexer": "ipython3",
      "version": "3.8"
    },
    "kernelspec": {
      "name": "python",
      "display_name": "Python (Pyodide)",
      "language": "python"
    }
  },
  "nbformat_minor": 4,
  "nbformat": 4,
  "cells": [
    {
      "cell_type": "markdown",
      "source": "\nQ1. Given an array of integers nums and an integer target, return indices of the two numbers such that they add up to target.\n\nYou may assume that each input would have exactly one solution, and you may not use the same element twice.\n\nYou can return the answer in any order.\n\n**Example:**\nInput: nums = [2,7,11,15], target = 9\nOutput0 [0,1]\n\n**Explanation:** Because nums[0] + nums[1] == 9, we return [0, 1][",
      "metadata": {}
    },
    {
      "cell_type": "code",
      "source": "def two_sum(nums, target):\n    num_dict = {}  # Dictionary to store numbers and their indices\n    \n    # Iterate through the array\n    for i, num in enumerate(nums):\n        complement = target - num  # Calculate the complement value\n        \n        # Check if the complement exists in the dictionary\n        if complement in num_dict:\n            return [num_dict[complement], i]  # Return the indices\n            \n        num_dict[num] = i  # Add the number and its index to the dictionary\n        \n    return []  # If no solution is found, return an empty list\n\n# Example usage\nnums = [2, 7, 11, 15]\ntarget = 9\nresult = two_sum(nums, target)\nprint(result)\n",
      "metadata": {
        "trusted": true
      },
      "execution_count": 1,
      "outputs": [
        {
          "name": "stdout",
          "text": "[0, 1]\n",
          "output_type": "stream"
        }
      ]
    },
    {
      "cell_type": "markdown",
      "source": "Q2.Given an integer array nums and an integer val, remove all occurrences of val in nums in-place. The order of the elements may be changed. Then return the number of elements in nums which are not equal to val.\n\nConsider the number of elements in nums which are not equal to val be k, to get accepted, you need to do the following things:\n\n- Change the array nums such that the first k elements of nums contain the elements which are not equal to val. The remaining elements of nums are not important as well as the size of nums.\n- Return k.\n\n**Example :**\nInput: nums = [3,2,2,3], val = 3\nOutput: 2, nums = [2,2,_*,_*]\n\n**Explanation:** Your function should return k = 2, with the first two elements of nums being 2. It does not matter what you leave beyond the returned k (hence they are underscores)\n",
      "metadata": {}
    },
    {
      "cell_type": "code",
      "source": "def removeElement(nums, val):\n    i = 0  # Pointer for iterating through nums\n    k = 0  # Pointer for keeping track of non-val elements\n\n    while i < len(nums):\n        if nums[i] != val:\n            nums[k] = nums[i]\n            k += 1\n        i += 1\n\n    return k\n",
      "metadata": {
        "trusted": true
      },
      "execution_count": 2,
      "outputs": []
    },
    {
      "cell_type": "code",
      "source": "nums = [3, 2, 2, 3]\nval = 3\n\nremoveElement(nums, val)\n",
      "metadata": {
        "trusted": true
      },
      "execution_count": 3,
      "outputs": [
        {
          "execution_count": 3,
          "output_type": "execute_result",
          "data": {
            "text/plain": "2"
          },
          "metadata": {}
        }
      ]
    },
    {
      "cell_type": "markdown",
      "source": "Q3. Given a sorted array of distinct integers and a target value, return the index if the target is found. If not, return the index where it would be if it were inserted in order.\n\nYou must write an algorithm with O(log n) runtime complexity.\n\n**Example 1:**\nInput: nums = [1,3,5,6], target = 5\n\nOutput: 2\n",
      "metadata": {}
    },
    {
      "cell_type": "code",
      "source": "def searchInsert(nums, target):\n    left = 0\n    right = len(nums) - 1\n\n    while left <= right:\n        mid = (left + right) // 2\n\n        if nums[mid] == target:\n            return mid\n        elif nums[mid] < target:\n            left = mid + 1\n        else:\n            right = mid - 1\n\n    return left\n",
      "metadata": {
        "trusted": true
      },
      "execution_count": 4,
      "outputs": []
    },
    {
      "cell_type": "code",
      "source": "nums = [1, 3, 5, 6]\ntarget = 5\n\nsearchInsert(nums, target)\n",
      "metadata": {
        "trusted": true
      },
      "execution_count": 5,
      "outputs": [
        {
          "execution_count": 5,
          "output_type": "execute_result",
          "data": {
            "text/plain": "2"
          },
          "metadata": {}
        }
      ]
    },
    {
      "cell_type": "markdown",
      "source": "Q4. You are given a large integer represented as an integer array digits, where each digits[i] is the ith digit of the integer. The digits are ordered from most significant to least significant in left-to-right order. The large integer does not contain any leading 0's.\n\nIncrement the large integer by one and return the resulting array of digits.\n\n**Example 1:**\nInput: digits = [1,2,3]\nOutput: [1,2,4]\n\n**Explanation:** The array represents the integer 123.\n\nIncrementing by one gives 123 + 1 = 124.\nThus, the result should be [1,2,4].",
      "metadata": {}
    },
    {
      "cell_type": "code",
      "source": "def plusOne(digits):\n    n = len(digits)\n    i = n - 1\n\n    while i >= 0:\n        if digits[i] < 9:\n            digits[i] += 1\n            return digits\n        digits[i] = 0\n        i -= 1\n\n    # If we reach here, it means all digits were 9\n    # We add a new digit 1 at the beginning\n    digits.insert(0, 1)\n    return digits\n",
      "metadata": {
        "trusted": true
      },
      "execution_count": 6,
      "outputs": []
    },
    {
      "cell_type": "code",
      "source": "digits = [1, 2, 3]\n\nplusOne(digits)\n",
      "metadata": {
        "trusted": true
      },
      "execution_count": 7,
      "outputs": [
        {
          "execution_count": 7,
          "output_type": "execute_result",
          "data": {
            "text/plain": "[1, 2, 4]"
          },
          "metadata": {}
        }
      ]
    },
    {
      "cell_type": "markdown",
      "source": "Q5. You are given two integer arrays nums1 and nums2, sorted in non-decreasing order, and two integers m and n, representing the number of elements in nums1 and nums2 respectively.\n\nMerge nums1 and nums2 into a single array sorted in non-decreasing order.\n\nThe final sorted array should not be returned by the function, but instead be stored inside the array nums1. To accommodate this, nums1 has a length of m + n, where the first m elements denote the elements that should be merged, and the last n elements are set to 0 and should be ignored. nums2 has a length of n.\n\n**Example 1:**\nInput: nums1 = [1,2,3,0,0,0], m = 3, nums2 = [2,5,6], n = 3\nOutput: [1,2,2,3,5,6]\n\n**Explanation:** The arrays we are merging are [1,2,3] and [2,5,6].\nThe result of the merge is [1,2,2,3,5,6] with the underlined elements coming from nums1.",
      "metadata": {}
    },
    {
      "cell_type": "code",
      "source": "def merge(nums1, m, nums2, n):\n    p1 = m - 1  # Pointer for the last valid element in nums1\n    p2 = n - 1  # Pointer for the last element in nums2\n    p = m + n - 1  # Pointer for the last position in nums1 to place merged elements\n\n    while p1 >= 0 and p2 >= 0:\n        if nums1[p1] >= nums2[p2]:\n            nums1[p] = nums1[p1]\n            p1 -= 1\n        else:\n            nums1[p] = nums2[p2]\n            p2 -= 1\n        p -= 1\n\n    # If there are any remaining elements in nums2, we copy them to nums1\n    nums1[:p2 + 1] = nums2[:p2 + 1]\n\n    return nums1\n",
      "metadata": {
        "trusted": true
      },
      "execution_count": 8,
      "outputs": []
    },
    {
      "cell_type": "code",
      "source": "nums1 = [1, 2, 3, 0, 0, 0]\nm = 3\nnums2 = [2, 5, 6]\nn = 3\n\nmerge(nums1, m, nums2, n)\n",
      "metadata": {
        "trusted": true
      },
      "execution_count": 9,
      "outputs": [
        {
          "execution_count": 9,
          "output_type": "execute_result",
          "data": {
            "text/plain": "[1, 2, 2, 3, 5, 6]"
          },
          "metadata": {}
        }
      ]
    },
    {
      "cell_type": "markdown",
      "source": "Q6. Given an integer array nums, return true if any value appears at least twice in the array, and return false if every element is distinct.\n\n**Example 1:**\nInput: nums = [1,2,3,1]\n\nOutput: true",
      "metadata": {}
    },
    {
      "cell_type": "code",
      "source": "def containsDuplicate(nums):\n    seen = set()\n\n    for num in nums:\n        if num in seen:\n            return True\n        seen.add(num)\n\n    return False\n",
      "metadata": {
        "trusted": true
      },
      "execution_count": 10,
      "outputs": []
    },
    {
      "cell_type": "code",
      "source": "nums = [1, 2, 3, 1]\n\ncontainsDuplicate(nums)\n",
      "metadata": {
        "trusted": true
      },
      "execution_count": 11,
      "outputs": [
        {
          "execution_count": 11,
          "output_type": "execute_result",
          "data": {
            "text/plain": "True"
          },
          "metadata": {}
        }
      ]
    },
    {
      "cell_type": "markdown",
      "source": "Q7. Given an integer array nums, move all 0's to the end of it while maintaining the relative order of the nonzero elements.\n\nNote that you must do this in-place without making a copy of the array.\n\n**Example 1:**\nInput: nums = [0,1,0,3,12]\nOutput: [1,3,12,0,0]",
      "metadata": {}
    },
    {
      "cell_type": "code",
      "source": "def moveZeroes(nums):\n    left = 0\n\n    for right in range(len(nums)):\n        if nums[right] != 0:\n            nums[left], nums[right] = nums[right], nums[left]\n            left += 1\n\n    return nums\n",
      "metadata": {
        "trusted": true
      },
      "execution_count": 12,
      "outputs": []
    },
    {
      "cell_type": "code",
      "source": "nums = [0, 1, 0, 3, 12]\n\nmoveZeroes(nums)\n",
      "metadata": {
        "trusted": true
      },
      "execution_count": 13,
      "outputs": [
        {
          "execution_count": 13,
          "output_type": "execute_result",
          "data": {
            "text/plain": "[1, 3, 12, 0, 0]"
          },
          "metadata": {}
        }
      ]
    },
    {
      "cell_type": "markdown",
      "source": "Q8. You have a set of integers s, which originally contains all the numbers from 1 to n. Unfortunately, due to some error, one of the numbers in s got duplicated to another number in the set, which results in repetition of one number and loss of another number.\n\nYou are given an integer array nums representing the data status of this set after the error.\n\nFind the number that occurs twice and the number that is missing and return them in the form of an array.\n\n**Example 1:**\nInput: nums = [1,2,2,4]\nOutput: [2,3]",
      "metadata": {}
    },
    {
      "cell_type": "code",
      "source": "def findErrorNums(nums):\n    n = len(nums)\n    num_set = set()\n    duplicate = -1\n\n    for num in nums:\n        if num in num_set:\n            duplicate = num\n        num_set.add(num)\n\n    missing = (n * (n + 1)) // 2 - sum(num_set)\n\n    return [duplicate, missing]\n",
      "metadata": {
        "trusted": true
      },
      "execution_count": 14,
      "outputs": []
    },
    {
      "cell_type": "code",
      "source": "nums = [1, 2, 2, 4]\n\nfindErrorNums(nums)\n",
      "metadata": {
        "trusted": true
      },
      "execution_count": 15,
      "outputs": [
        {
          "execution_count": 15,
          "output_type": "execute_result",
          "data": {
            "text/plain": "[2, 3]"
          },
          "metadata": {}
        }
      ]
    }
  ]
}