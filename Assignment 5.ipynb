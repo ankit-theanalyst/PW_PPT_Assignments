{
  "metadata": {
    "language_info": {
      "codemirror_mode": {
        "name": "python",
        "version": 3
      },
      "file_extension": ".py",
      "mimetype": "text/x-python",
      "name": "python",
      "nbconvert_exporter": "python",
      "pygments_lexer": "ipython3",
      "version": "3.8"
    },
    "kernelspec": {
      "name": "python",
      "display_name": "Python (Pyodide)",
      "language": "python"
    }
  },
  "nbformat_minor": 4,
  "nbformat": 4,
  "cells": [
    {
      "cell_type": "markdown",
      "source": "<aside>\n💡 **Question 1**\n\nConvert 1D Array Into 2D Array\n\nYou are given a **0-indexed** 1-dimensional (1D) integer array original, and two integers, m and n. You are tasked with creating a 2-dimensional (2D) array with  m rows and n columns using **all** the elements from original.\n\nThe elements from indices 0 to n - 1 (**inclusive**) of original should form the first row of the constructed 2D array, the elements from indices n to 2 * n - 1 (**inclusive**) should form the second row of the constructed 2D array, and so on.\n\nReturn *an* m x n *2D array constructed according to the above procedure, or an empty 2D array if it is impossible*.\n\n</aside>",
      "metadata": {}
    },
    {
      "cell_type": "code",
      "source": "def convert_to_2d_array(original, m, n):\n    if len(original) != m * n:\n        return []  # Return an empty 2D array if it is impossible\n    \n    result = []\n    for i in range(m):\n        row = original[i * n : (i + 1) * n]\n        result.append(row)\n    \n    return result\n",
      "metadata": {
        "trusted": true
      },
      "execution_count": 1,
      "outputs": []
    },
    {
      "cell_type": "code",
      "source": "original = [1, 2, 3, 4, 5, 6]\nm = 2\nn = 3\nresult = convert_to_2d_array(original, m, n)\nprint(result)\n",
      "metadata": {
        "trusted": true
      },
      "execution_count": 2,
      "outputs": [
        {
          "name": "stdout",
          "text": "[[1, 2, 3], [4, 5, 6]]\n",
          "output_type": "stream"
        }
      ]
    },
    {
      "cell_type": "markdown",
      "source": "<aside>\n💡 **Question 2**\n\nYou have n coins and you want to build a staircase with these coins. The staircase consists of k rows where the ith row has exactly i coins. The last row of the staircase **may be** incomplete.\n\nGiven the integer n, return *the number of **complete rows** of the staircase you will build*.\n\n</aside>",
      "metadata": {}
    },
    {
      "cell_type": "code",
      "source": "import math\n\ndef complete_rows(n):\n    return int((math.sqrt(8 * n + 1) - 1) / 2)\n",
      "metadata": {
        "trusted": true
      },
      "execution_count": 3,
      "outputs": []
    },
    {
      "cell_type": "code",
      "source": "n = 10\nresult = complete_rows(n)\nprint(result)\n",
      "metadata": {
        "trusted": true
      },
      "execution_count": 4,
      "outputs": [
        {
          "name": "stdout",
          "text": "4\n",
          "output_type": "stream"
        }
      ]
    },
    {
      "cell_type": "markdown",
      "source": "<aside>\n💡 **Question 3**\n\nGiven an integer array nums sorted in **non-decreasing** order, return *an array of **the squares of each number** sorted in non-decreasing order*.\n\n**Example 1:**\n\n**Input:** nums = [-4,-1,0,3,10]\n\n**Output:** [0,1,9,16,100]\n\n**Explanation:** After squaring, the array becomes [16,1,0,9,100].\n\nAfter sorting, it becomes [0,1,9,16,100].\n\n</aside>",
      "metadata": {}
    },
    {
      "cell_type": "markdown",
      "source": "def sorted_squares(nums):\n    squared_nums = [num ** 2 for num in nums]\n    squared_nums.sort()\n    return squared_nums\n\n",
      "metadata": {}
    },
    {
      "cell_type": "code",
      "source": "nums = [-4, -1, 0, 3, 10]\nresult = sorted_squares(nums)\nprint(result)",
      "metadata": {
        "trusted": true
      },
      "execution_count": 6,
      "outputs": [
        {
          "name": "stdout",
          "text": "[0, 1, 9, 16, 100]\n",
          "output_type": "stream"
        }
      ]
    },
    {
      "cell_type": "markdown",
      "source": "\n💡 **Question 4**\n\nGiven two **0-indexed** integer arrays nums1 and nums2, return *a list* answer *of size* 2 *where:*\n\n- answer[0] *is a list of all **distinct** integers in* nums1 *which are **not** present in* nums2*.*\n- answer[1] *is a list of all **distinct** integers in* nums2 *which are **not** present in* nums1.\n\n**Note** that the integers in the lists may be returned in **any** order.\n\n**Example 1:**\n\n**Input:** nums1 = [1,2,3], nums2 = [2,4,6]\n\n**Output:** [[1,3],[4,6]]\n\n**Explanation:**\n\nFor nums1, nums1[1] = 2 is present at index 0 of nums2, whereas nums1[0] = 1 and nums1[2] = 3 are not present in nums2. Therefore, answer[0] = [1,3].\n\nFor nums2, nums2[0] = 2 is present at index 1 of nums1, whereas nums2[1] = 4 and nums2[2] = 6 are not present in nums2. Therefore, answer[1] = [4,6].",
      "metadata": {}
    },
    {
      "cell_type": "code",
      "source": "def find_disjoint(nums1, nums2):\n    set1 = set(nums1)\n    set2 = set(nums2)\n    diff1 = list(set1.difference(set2))\n    diff2 = list(set2.difference(set1))\n    return [diff1, diff2]\n",
      "metadata": {
        "trusted": true
      },
      "execution_count": 8,
      "outputs": []
    },
    {
      "cell_type": "code",
      "source": "nums1 = [1, 2, 3]\nnums2 = [2, 4, 6]\nresult = find_disjoint(nums1, nums2)\nprint(result)\n",
      "metadata": {
        "trusted": true
      },
      "execution_count": 9,
      "outputs": [
        {
          "name": "stdout",
          "text": "[[1, 3], [4, 6]]\n",
          "output_type": "stream"
        }
      ]
    },
    {
      "cell_type": "markdown",
      "source": "<aside>\n💡 **Question 5**\n\nGiven two integer arrays arr1 and arr2, and the integer d, *return the distance value between the two arrays*.\n\nThe distance value is defined as the number of elements arr1[i] such that there is not any element arr2[j] where |arr1[i]-arr2[j]| <= d.\n\n**Example 1:**\n\n**Input:** arr1 = [4,5,8], arr2 = [10,9,1,8], d = 2\n\n**Output:** 2\n\n**Explanation:**\n\nFor arr1[0]=4 we have:\n\n|4-10|=6 > d=2\n\n|4-9|=5 > d=2\n\n|4-1|=3 > d=2\n\n|4-8|=4 > d=2\n\nFor arr1[1]=5 we have:\n\n|5-10|=5 > d=2\n\n|5-9|=4 > d=2\n\n|5-1|=4 > d=2\n\n|5-8|=3 > d=2\n\nFor arr1[2]=8 we have:\n\n**|8-10|=2 <= d=2**\n\n**|8-9|=1 <= d=2**\n\n|8-1|=7 > d=2\n\n**|8-8|=0 <= d=2**\n\n</aside>",
      "metadata": {}
    },
    {
      "cell_type": "code",
      "source": "def distance_value(arr1, arr2, d):\n    distance = 0\n    for num1 in arr1:\n        is_valid = True\n        for num2 in arr2:\n            if abs(num1 - num2) <= d:\n                is_valid = False\n                break\n        if is_valid:\n            distance += 1\n    return distance\n",
      "metadata": {
        "trusted": true
      },
      "execution_count": 10,
      "outputs": []
    },
    {
      "cell_type": "code",
      "source": "arr1 = [4, 5, 8]\narr2 = [10, 9, 1, 8]\nd = 2\nresult = distance_value(arr1, arr2, d)\nprint(result)\n",
      "metadata": {
        "trusted": true
      },
      "execution_count": 11,
      "outputs": [
        {
          "name": "stdout",
          "text": "2\n",
          "output_type": "stream"
        }
      ]
    },
    {
      "cell_type": "markdown",
      "source": "<aside>\n💡 **Question 6**\n\nGiven an integer array nums of length n where all the integers of nums are in the range [1, n] and each integer appears **once** or **twice**, return *an array of all the integers that appears **twice***.\n\nYou must write an algorithm that runs in O(n) time and uses only constant extra space.\n\n**Example 1:**\n\n**Input:** nums = [4,3,2,7,8,2,3,1]\n\n**Output:**\n\n[2,3]\n\n</aside>",
      "metadata": {}
    },
    {
      "cell_type": "code",
      "source": "def find_duplicates(nums):\n    duplicates = []\n    for num in nums:\n        index = abs(num) - 1\n        if nums[index] < 0:\n            duplicates.append(abs(num))\n        else:\n            nums[index] *= -1\n    return duplicates\n",
      "metadata": {
        "trusted": true
      },
      "execution_count": 12,
      "outputs": []
    },
    {
      "cell_type": "code",
      "source": "nums = [4, 3, 2, 7, 8, 2, 3, 1]\nresult = find_duplicates(nums)\nprint(result)\n",
      "metadata": {
        "trusted": true
      },
      "execution_count": 13,
      "outputs": [
        {
          "name": "stdout",
          "text": "[2, 3]\n",
          "output_type": "stream"
        }
      ]
    },
    {
      "cell_type": "markdown",
      "source": "<aside>\n💡 **Question 7**\n\nSuppose an array of length n sorted in ascending order is **rotated** between 1 and n times. For example, the array nums = [0,1,2,4,5,6,7] might become:\n\n- [4,5,6,7,0,1,2] if it was rotated 4 times.\n- [0,1,2,4,5,6,7] if it was rotated 7 times.\n\nNotice that **rotating** an array [a[0], a[1], a[2], ..., a[n-1]] 1 time results in the array [a[n-1], a[0], a[1], a[2], ..., a[n-2]].\n\nGiven the sorted rotated array nums of **unique** elements, return *the minimum element of this array*.\n\nYou must write an algorithm that runs in O(log n) time.\n\n**Example 1:**\n\n**Input:** nums = [3,4,5,1,2]\n\n**Output:** 1\n\n**Explanation:**\n\nThe original array was [1,2,3,4,5] rotated 3 times.\n\n</aside>",
      "metadata": {}
    },
    {
      "cell_type": "code",
      "source": "def find_minimum(nums):\n    left = 0\n    right = len(nums) - 1\n\n    while left < right:\n        mid = left + (right - left) // 2\n\n        if nums[mid] > nums[right]:\n            left = mid + 1\n        else:\n            right = mid\n\n    return nums[left]\n",
      "metadata": {
        "trusted": true
      },
      "execution_count": 14,
      "outputs": []
    },
    {
      "cell_type": "code",
      "source": "nums = [3, 4, 5, 1, 2]\nresult = find_minimum(nums)\nprint(result)\n",
      "metadata": {
        "trusted": true
      },
      "execution_count": 15,
      "outputs": [
        {
          "name": "stdout",
          "text": "1\n",
          "output_type": "stream"
        }
      ]
    },
    {
      "cell_type": "markdown",
      "source": "<aside>\n💡 **Question 8**\n\nAn integer array original is transformed into a **doubled** array changed by appending **twice the value** of every element in original, and then randomly **shuffling** the resulting array.\n\nGiven an array changed, return original *if* changed *is a **doubled** array. If* changed *is not a **doubled** array, return an empty array. The elements in* original *may be returned in **any** order*.\n\n**Example 1:**\n\n**Input:** changed = [1,3,4,2,6,8]\n\n**Output:** [1,3,4]\n\n**Explanation:** One possible original array could be [1,3,4]:\n\n- Twice the value of 1 is 1 * 2 = 2.\n- Twice the value of 3 is 3 * 2 = 6.\n- Twice the value of 4 is 4 * 2 = 8.\n\nOther original arrays could be [4,3,1] or [3,1,4].\n\n</aside>",
      "metadata": {}
    },
    {
      "cell_type": "code",
      "source": "def find_original(changed):\n    counter = {}\n    \n    # Count the occurrences of each element in changed\n    for num in changed:\n        counter[num] = counter.get(num, 0) + 1\n    \n    original = []\n    \n    # Iterate through the elements in changed\n    for num in changed:\n        # Check if the element is the doubled value of another element\n        if num / 2 in counter:\n            # Decrement the count of the doubled value\n            counter[num / 2] -= 1\n            # Append the original element to the original array\n            original.append(num / 2)\n            \n            # If the count reaches zero, remove the element from the counter\n            if counter[num / 2] == 0:\n                del counter[num / 2]\n    \n    # If the counter is empty, return the original array\n    if len(counter) == 0:\n        return original\n    \n    # If the counter is not empty, return an empty array\n    return []\n",
      "metadata": {
        "trusted": true
      },
      "execution_count": 16,
      "outputs": []
    },
    {
      "cell_type": "code",
      "source": "changed = [1, 3, 4, 2, 6, 8]\noriginal = find_original(changed)\nprint(original)\n",
      "metadata": {
        "trusted": true
      },
      "execution_count": 17,
      "outputs": [
        {
          "name": "stdout",
          "text": "[]\n",
          "output_type": "stream"
        }
      ]
    },
    {
      "cell_type": "code",
      "source": "[1, 3, 4]\n",
      "metadata": {
        "trusted": true
      },
      "execution_count": 18,
      "outputs": [
        {
          "execution_count": 18,
          "output_type": "execute_result",
          "data": {
            "text/plain": "[1, 3, 4]"
          },
          "metadata": {}
        }
      ]
    },
    {
      "cell_type": "code",
      "source": "",
      "metadata": {},
      "execution_count": null,
      "outputs": []
    }
  ]
}