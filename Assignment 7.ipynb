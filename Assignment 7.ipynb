{
  "metadata": {
    "language_info": {
      "codemirror_mode": {
        "name": "python",
        "version": 3
      },
      "file_extension": ".py",
      "mimetype": "text/x-python",
      "name": "python",
      "nbconvert_exporter": "python",
      "pygments_lexer": "ipython3",
      "version": "3.8"
    },
    "kernelspec": {
      "name": "python",
      "display_name": "Python (Pyodide)",
      "language": "python"
    }
  },
  "nbformat_minor": 4,
  "nbformat": 4,
  "cells": [
    {
      "cell_type": "markdown",
      "source": "<aside>\n💡 **Question 1**\n\nGiven two strings s and t, *determine if they are isomorphic*.\n\nTwo strings s and t are isomorphic if the characters in s can be replaced to get t.\n\nAll occurrences of a character must be replaced with another character while preserving the order of characters. No two characters may map to the same character, but a character may map to itself.\n\n**Example 1:**\n\n**Input:** s = \"egg\", t = \"add\"\n\n**Output:** true\n\n</aside>",
      "metadata": {}
    },
    {
      "cell_type": "code",
      "source": "def is_isomorphic(s, t):\n    if len(s) != len(t):\n        return False\n    \n    s_to_t = {}  # Mapping from characters in s to characters in t\n    t_to_s = {}  # Mapping from characters in t to characters in s\n    \n    for i in range(len(s)):\n        char_s = s[i]\n        char_t = t[i]\n        \n        if char_s in s_to_t:\n            if s_to_t[char_s] != char_t:\n                return False\n        else:\n            s_to_t[char_s] = char_t\n        \n        if char_t in t_to_s:\n            if t_to_s[char_t] != char_s:\n                return False\n        else:\n            t_to_s[char_t] = char_s\n    \n    return True\n\n# Test the function\ns = \"egg\"\nt = \"add\"\nprint(is_isomorphic(s, t))  # Output: True\n",
      "metadata": {
        "trusted": true
      },
      "execution_count": 1,
      "outputs": [
        {
          "name": "stdout",
          "text": "True\n",
          "output_type": "stream"
        }
      ]
    },
    {
      "cell_type": "markdown",
      "source": "<aside>\n💡 **Question 2**\n\nGiven a string num which represents an integer, return true *if* num *is a **strobogrammatic number***.\n\nA **strobogrammatic number** is a number that looks the same when rotated 180 degrees (looked at upside down).\n\n**Example 1:**\n\n**Input:** num = \"69\"\n\n**Output:**\n\ntrue\n\n</aside>",
      "metadata": {}
    },
    {
      "cell_type": "code",
      "source": "def is_strobogrammatic(num):\n    # Define the pairs of digits that are valid in a strobogrammatic number\n    valid_pairs = {'0': '0', '1': '1', '6': '9', '8': '8', '9': '6'}\n    \n    # Initialize pointers at the start and end of the number\n    left = 0\n    right = len(num) - 1\n    \n    while left <= right:\n        # Check if the pair of digits at the current pointers are valid\n        if num[left] not in valid_pairs or num[right] not in valid_pairs:\n            return False\n        \n        # Check if the digits are mirrored\n        if num[left] != valid_pairs[num[right]]:\n            return False\n        \n        # Move the pointers inward\n        left += 1\n        right -= 1\n    \n    return True\n\n# Test the function\nnum = \"69\"\nprint(is_strobogrammatic(num))  # Output: True\n",
      "metadata": {
        "trusted": true
      },
      "execution_count": 2,
      "outputs": [
        {
          "name": "stdout",
          "text": "True\n",
          "output_type": "stream"
        }
      ]
    },
    {
      "cell_type": "markdown",
      "source": "<aside>\n💡 **Question 3**\n\nGiven two non-negative integers, num1 and num2 represented as string, return *the sum of* num1 *and* num2 *as a string*.\n\nYou must solve the problem without using any built-in library for handling large integers (such as BigInteger). You must also not convert the inputs to integers directly.\n\n**Example 1:**\n\n**Input:** num1 = \"11\", num2 = \"123\"\n\n**Output:**\n\n\"134\"\n\n</aside>",
      "metadata": {}
    },
    {
      "cell_type": "code",
      "source": "def add_strings(num1, num2):\n    result = []  # List to store the sum digits\n    \n    carry = 0\n    i = len(num1) - 1\n    j = len(num2) - 1\n    \n    while i >= 0 or j >= 0 or carry != 0:\n        digit1 = int(num1[i]) if i >= 0 else 0\n        digit2 = int(num2[j]) if j >= 0 else 0\n        \n        # Calculate the sum of the current digits and carry\n        digit_sum = digit1 + digit2 + carry\n        carry = digit_sum // 10\n        digit_sum %= 10\n        \n        # Insert the sum digit at the beginning of the result list\n        result.insert(0, str(digit_sum))\n        \n        # Move the pointers to the left\n        i -= 1\n        j -= 1\n    \n    return ''.join(result)\n\n# Test the function\nnum1 = \"11\"\nnum2 = \"123\"\nprint(add_strings(num1, num2))  # Output: \"134\"\n",
      "metadata": {
        "trusted": true
      },
      "execution_count": 3,
      "outputs": [
        {
          "name": "stdout",
          "text": "134\n",
          "output_type": "stream"
        }
      ]
    },
    {
      "cell_type": "markdown",
      "source": "<aside>\n💡 **Question 4**\n\nGiven a string s, reverse the order of characters in each word within a sentence while still preserving whitespace and initial word order.\n\n**Example 1:**\n\n**Input:** s = \"Let's take LeetCode contest\"\n\n**Output:** \"s'teL ekat edoCteeL tsetnoc\"\n\n</aside>",
      "metadata": {}
    },
    {
      "cell_type": "code",
      "source": "def reverse_words(s):\n    words = s.split()  # Split the sentence into words\n    \n    # Reverse each word in the list\n    reversed_words = [word[::-1] for word in words]\n    \n    # Join the reversed words with whitespace\n    reversed_sentence = ' '.join(reversed_words)\n    \n    return reversed_sentence\n\n# Test the function\ns = \"Let's take LeetCode contest\"\nprint(reverse_words(s))  # Output: \"s'teL ekat edoCteeL tsetnoc\"\n",
      "metadata": {
        "trusted": true
      },
      "execution_count": 5,
      "outputs": [
        {
          "name": "stdout",
          "text": "s'teL ekat edoCteeL tsetnoc\n",
          "output_type": "stream"
        }
      ]
    },
    {
      "cell_type": "markdown",
      "source": "<aside>\n💡 **Question 5**\n\nGiven a string s and an integer k, reverse the first k characters for every 2k characters counting from the start of the string.\n\nIf there are fewer than k characters left, reverse all of them. If there are less than 2k but greater than or equal to k characters, then reverse the first k characters and leave the other as original.\n\n**Example 1:**\n\n**Input:** s = \"abcdefg\", k = 2\n\n**Output:**\n\n\"bacdfeg\"\n\n</aside>",
      "metadata": {}
    },
    {
      "cell_type": "code",
      "source": "def reverse_str(s, k):\n    chars = list(s)  # Convert the string to a list of characters\n    \n    for i in range(0, len(chars), 2 * k):\n        # Reverse the first k characters in each step\n        chars[i:i+k] = chars[i:i+k][::-1]\n    \n    return ''.join(chars)\n\n# Test the function\ns = \"abcdefg\"\nk = 2\nprint(reverse_str(s, k))  # Output: \"bacdfeg\"\n",
      "metadata": {
        "trusted": true
      },
      "execution_count": 6,
      "outputs": [
        {
          "name": "stdout",
          "text": "bacdfeg\n",
          "output_type": "stream"
        }
      ]
    },
    {
      "cell_type": "markdown",
      "source": "<aside>\n💡 **Question 6**\n\nGiven two strings s and goal, return true *if and only if* s *can become* goal *after some number of **shifts** on* s.\n\nA **shift** on s consists of moving the leftmost character of s to the rightmost position.\n\n- For example, if s = \"abcde\", then it will be \"bcdea\" after one shift.\n\n**Example 1:**\n\n**Input:** s = \"abcde\", goal = \"cdeab\"\n\n**Output:**\n\ntrue\n\n</aside>",
      "metadata": {}
    },
    {
      "cell_type": "code",
      "source": "def rotate_string(s, goal):\n    if len(s) != len(goal):\n        return False\n    \n    return goal in s + s\n\n# Test the function\ns = \"abcde\"\ngoal = \"cdeab\"\nprint(rotate_string(s, goal))  # Output: True\n",
      "metadata": {
        "trusted": true
      },
      "execution_count": 7,
      "outputs": [
        {
          "name": "stdout",
          "text": "True\n",
          "output_type": "stream"
        }
      ]
    },
    {
      "cell_type": "markdown",
      "source": "<aside>\n💡 **Question 7**\n\nGiven two strings s and t, return true *if they are equal when both are typed into empty text editors*. '#' means a backspace character.\n\nNote that after backspacing an empty text, the text will continue empty.\n\n**Example 1:**\n\n**Input:** s = \"ab#c\", t = \"ad#c\"\n\n**Output:** true\n\n**Explanation:**\n\nBoth s and t become \"ac\".\n\n</aside>",
      "metadata": {}
    },
    {
      "cell_type": "code",
      "source": "def backspace_compare(s, t):\n    def process_string(string):\n        stack = []\n        for char in string:\n            if char != '#':\n                stack.append(char)\n            elif stack:\n                stack.pop()\n        return ''.join(stack)\n    \n    return process_string(s) == process_string(t)\n\n# Test the function\ns = \"ab#c\"\nt = \"ad#c\"\nprint(backspace_compare(s, t))  # Output: True\n",
      "metadata": {
        "trusted": true
      },
      "execution_count": 8,
      "outputs": [
        {
          "name": "stdout",
          "text": "True\n",
          "output_type": "stream"
        }
      ]
    },
    {
      "cell_type": "markdown",
      "source": "<aside>\n💡 **Question 8**\n\nYou are given an array coordinates, coordinates[i] = [x, y], where [x, y] represents the coordinate of a point. Check if these points make a straight line in the XY plane.\n\n**Example 1:**\n**Input:** coordinates = [[1,2],[2,3],[3,4],[4,5],[5,6],[6,7]]\n\n**Output:** true\n\n</aside>",
      "metadata": {}
    },
    {
      "cell_type": "code",
      "source": "def check_straight_line(coordinates):\n    if len(coordinates) <= 2:\n        return True\n    \n    x0, y0 = coordinates[0]\n    x1, y1 = coordinates[1]\n    \n    # Calculate the slope between the first two points\n    slope = (y1 - y0) / (x1 - x0) if x1 != x0 else float('inf')\n    \n    for i in range(2, len(coordinates)):\n        x, y = coordinates[i]\n        \n        # Calculate the slope between the current point and the first point\n        curr_slope = (y - y0) / (x - x0) if x != x0 else float('inf')\n        \n        # If the slopes are not equal, the points are not on a straight line\n        if curr_slope != slope:\n            return False\n    \n    return True\n\n# Test the function\ncoordinates = [[1,2],[2,3],[3,4],[4,5],[5,6],[6,7]]\nprint(check_straight_line(coordinates))  # Output: True\n",
      "metadata": {
        "trusted": true
      },
      "execution_count": 9,
      "outputs": [
        {
          "name": "stdout",
          "text": "True\n",
          "output_type": "stream"
        }
      ]
    }
  ]
}