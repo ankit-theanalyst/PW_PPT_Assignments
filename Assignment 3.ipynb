{
  "metadata": {
    "language_info": {
      "codemirror_mode": {
        "name": "python",
        "version": 3
      },
      "file_extension": ".py",
      "mimetype": "text/x-python",
      "name": "python",
      "nbconvert_exporter": "python",
      "pygments_lexer": "ipython3",
      "version": "3.8"
    },
    "kernelspec": {
      "name": "python",
      "display_name": "Python (Pyodide)",
      "language": "python"
    }
  },
  "nbformat_minor": 4,
  "nbformat": 4,
  "cells": [
    {
      "cell_type": "markdown",
      "source": "Question 1\nGiven an integer array nums of length n and an integer target, find three integers\nin nums such that the sum is closest to the target.\nReturn the sum of the three integers.\n\nYou may assume that each input would have exactly one solution.\n\nExample 1:\nInput: nums = [-1,2,1,-4], target = 1\nOutput: 2\n\nExplanation: The sum that is closest to the target is 2. (-1 + 2 + 1 = 2).",
      "metadata": {}
    },
    {
      "cell_type": "code",
      "source": "def threeSumClosest(nums, target):\n    nums.sort()\n    closestSum = float('inf')\n    n = len(nums)\n\n    for i in range(n - 2):\n        left = i + 1\n        right = n - 1\n        while left < right:\n            currentSum = nums[i] + nums[left] + nums[right]\n            if abs(currentSum - target) < abs(closestSum - target):\n                closestSum = currentSum\n            if currentSum < target:\n                left += 1\n            elif currentSum > target:\n                right -= 1\n            else:\n                return target\n\n    return closestSum\n",
      "metadata": {
        "trusted": true
      },
      "execution_count": 1,
      "outputs": []
    },
    {
      "cell_type": "code",
      "source": "nums = [-1, 2, 1, -4]\ntarget = 1\nprint(threeSumClosest(nums, target))\n",
      "metadata": {
        "trusted": true
      },
      "execution_count": 2,
      "outputs": [
        {
          "name": "stdout",
          "text": "2\n",
          "output_type": "stream"
        }
      ]
    },
    {
      "cell_type": "markdown",
      "source": "Question 2\nGiven an array nums of n integers, return an array of all the unique quadruplets\n[nums[a], nums[b], nums[c], nums[d]] such that:\n           ● 0 <= a, b, c, d < n\n           ● a, b, c, and d are distinct.\n           ● nums[a] + nums[b] + nums[c] + nums[d] == target\n\nYou may return the answer in any order.\n\nExample 1:\nInput: nums = [1,0,-1,0,-2,2], target = 0\nOutput: [[-2,-1,1,2],[-2,0,0,2],[-1,0,0,1]]",
      "metadata": {}
    },
    {
      "cell_type": "code",
      "source": "def fourSum(nums, target):\n    nums.sort()\n    result = []\n    n = len(nums)\n\n    for i in range(n - 3):\n        if i > 0 and nums[i] == nums[i - 1]:\n            continue\n\n        for j in range(i + 1, n - 2):\n            if j > i + 1 and nums[j] == nums[j - 1]:\n                continue\n\n            left = j + 1\n            right = n - 1\n            while left < right:\n                currentSum = nums[i] + nums[j] + nums[left] + nums[right]\n                if currentSum == target:\n                    result.append([nums[i], nums[j], nums[left], nums[right]])\n                    while left < right and nums[left] == nums[left + 1]:\n                        left += 1\n                    while left < right and nums[right] == nums[right - 1]:\n                        right -= 1\n                    left += 1\n                    right -= 1\n                elif currentSum < target:\n                    left += 1\n                else:\n                    right -= 1\n\n    return result\n",
      "metadata": {
        "trusted": true
      },
      "execution_count": 3,
      "outputs": []
    },
    {
      "cell_type": "code",
      "source": "nums = [1, 0, -1, 0, -2, 2]\ntarget = 0\nprint(fourSum(nums, target))\n",
      "metadata": {
        "trusted": true
      },
      "execution_count": 4,
      "outputs": [
        {
          "name": "stdout",
          "text": "[[-2, -1, 1, 2], [-2, 0, 0, 2], [-1, 0, 0, 1]]\n",
          "output_type": "stream"
        }
      ]
    },
    {
      "cell_type": "markdown",
      "source": "**Question 3**\nA permutation of an array of integers is an arrangement of its members into a\nsequence or linear order.\n\nFor example, for arr = [1,2,3], the following are all the permutations of arr:\n[1,2,3], [1,3,2], [2, 1, 3], [2, 3, 1], [3,1,2], [3,2,1].\n\nThe next permutation of an array of integers is the next lexicographically greater\npermutation of its integer. More formally, if all the permutations of the array are\nsorted in one container according to their lexicographical order, then the next\npermutation of that array is the permutation that follows it in the sorted container.\n\nIf such an arrangement is not possible, the array must be rearranged as the\nlowest possible order (i.e., sorted in ascending order).\n\n● For example, the next permutation of arr = [1,2,3] is [1,3,2].\n● Similarly, the next permutation of arr = [2,3,1] is [3,1,2].\n● While the next permutation of arr = [3,2,1] is [1,2,3] because [3,2,1] does not\nhave a lexicographical larger rearrangement.\n\nGiven an array of integers nums, find the next permutation of nums.\nThe replacement must be in place and use only constant extra memory.\n\n**Example 1:**\nInput: nums = [1,2,3]\nOutput: [1,3,2]\n",
      "metadata": {}
    },
    {
      "cell_type": "code",
      "source": "def nextPermutation(nums):\n    n = len(nums)\n    i = n - 1\n\n    while i > 0 and nums[i - 1] >= nums[i]:\n        i -= 1\n\n    if i == 0:\n        nums.reverse()\n    else:\n        j = n - 1\n        while nums[j] <= nums[i - 1]:\n            j -= 1\n        nums[i - 1], nums[j] = nums[j], nums[i - 1]\n        nums[i:] = reversed(nums[i:])\n\n    return nums\n",
      "metadata": {
        "trusted": true
      },
      "execution_count": 5,
      "outputs": []
    },
    {
      "cell_type": "code",
      "source": "nums = [1, 2, 3]\nprint(nextPermutation(nums))\n",
      "metadata": {
        "trusted": true
      },
      "execution_count": 6,
      "outputs": [
        {
          "name": "stdout",
          "text": "[1, 3, 2]\n",
          "output_type": "stream"
        }
      ]
    },
    {
      "cell_type": "markdown",
      "source": "Question 4\nGiven a sorted array of distinct integers and a target value, return the index if the\ntarget is found. If not, return the index where it would be if it were inserted in\norder.\n\nYou must write an algorithm with O(log n) runtime complexity.\n\nExample 1:\nInput: nums = [1,3,5,6], target = 5\nOutput: 2",
      "metadata": {}
    },
    {
      "cell_type": "code",
      "source": "def searchInsert(nums, target):\n    left = 0\n    right = len(nums) - 1\n\n    while left <= right:\n        middle = (left + right) // 2\n        if nums[middle] == target:\n            return middle\n        elif nums[middle] < target:\n            left = middle + 1\n        else:\n            right = middle - 1\n\n    return left\n",
      "metadata": {
        "trusted": true
      },
      "execution_count": 7,
      "outputs": []
    },
    {
      "cell_type": "code",
      "source": "nums = [1, 3, 5, 6]\ntarget = 5\nprint(searchInsert(nums, target))\n",
      "metadata": {
        "trusted": true
      },
      "execution_count": 8,
      "outputs": [
        {
          "name": "stdout",
          "text": "2\n",
          "output_type": "stream"
        }
      ]
    },
    {
      "cell_type": "markdown",
      "source": "**Question 5**\nYou are given a large integer represented as an integer array digits, where each\ndigits[i] is the ith digit of the integer. The digits are ordered from most significant\nto least significant in left-to-right order. The large integer does not contain any\nleading 0's.\n\nIncrement the large integer by one and return the resulting array of digits.\n\n**Example 1:**\nInput: digits = [1,2,3]\nOutput: [1,2,4]\n\n**Explanation:** The array represents the integer 123.\nIncrementing by one gives 123 + 1 = 124.\nThus, the result should be [1,2,4].",
      "metadata": {}
    },
    {
      "cell_type": "code",
      "source": "def plusOne(digits):\n    n = len(digits)\n    for i in range(n - 1, -1, -1):\n        if digits[i] < 9:\n            digits[i] += 1\n            return digits\n        digits[i] = 0\n\n    # If the iteration reaches here, it means all digits were 9.\n    # Insert 1 at the beginning of the array.\n    digits.insert(0, 1)\n    return digits\n",
      "metadata": {
        "trusted": true
      },
      "execution_count": 9,
      "outputs": []
    },
    {
      "cell_type": "code",
      "source": "digits = [1, 2, 3]\nprint(plusOne(digits))\n",
      "metadata": {
        "trusted": true
      },
      "execution_count": 10,
      "outputs": [
        {
          "name": "stdout",
          "text": "[1, 2, 4]\n",
          "output_type": "stream"
        }
      ]
    },
    {
      "cell_type": "markdown",
      "source": "Question 6\nGiven a non-empty array of integers nums, every element appears twice except\nfor one. Find that single one.\n\nYou must implement a solution with a linear runtime complexity and use only\nconstant extra space.\n\nExample 1:\nInput: nums = [2,2,1]\nOutput: 1",
      "metadata": {}
    },
    {
      "cell_type": "code",
      "source": "def singleNumber(nums):\n    result = 0\n    for num in nums:\n        result ^= num\n    return result\n",
      "metadata": {
        "trusted": true
      },
      "execution_count": 11,
      "outputs": []
    },
    {
      "cell_type": "code",
      "source": "nums = [2, 2, 1]\nprint(singleNumber(nums))\n",
      "metadata": {
        "trusted": true
      },
      "execution_count": 12,
      "outputs": [
        {
          "name": "stdout",
          "text": "1\n",
          "output_type": "stream"
        }
      ]
    },
    {
      "cell_type": "markdown",
      "source": "Question 7\nYou are given an inclusive range [lower, upper] and a sorted unique integer array\nnums, where all elements are within the inclusive range.\n\nA number x is considered missing if x is in the range [lower, upper] and x is not in\nnums.\n\nReturn the shortest sorted list of ranges that exactly covers all the missing\nnumbers. That is, no element of nums is included in any of the ranges, and each\nmissing number is covered by one of the ranges.\n\nExample 1:\nInput: nums = [0,1,3,50,75], lower = 0, upper = 99\nOutput: [[2,2],[4,49],[51,74],[76,99]]\n\nExplanation: The ranges are:\n[2,2]\n[4,49]\n[51,74]\n[76,99]",
      "metadata": {}
    },
    {
      "cell_type": "code",
      "source": "def findMissingRanges(nums, lower, upper):\n    result = []\n    start = lower\n\n    for num in range(lower, upper + 1):\n        if num not in nums:\n            if num == start:\n                result.append([start, start])\n            else:\n                result.append([start, num - 1])\n            start = num + 1\n\n    if start <= upper:\n        result.append([start, upper])\n\n    return result\n",
      "metadata": {
        "trusted": true
      },
      "execution_count": 16,
      "outputs": []
    },
    {
      "cell_type": "markdown",
      "source": "Question 8\nGiven an array of meeting time intervals where intervals[i] = [starti, endi],\ndetermine if a person could attend all meetings.\n\nExample 1:\nInput: intervals = [[0,30],[5,10],[15,20]]\nOutput: false",
      "metadata": {}
    },
    {
      "cell_type": "code",
      "source": "def canAttendMeetings(intervals):\n    intervals.sort(key=lambda x: x[0])  # Sort intervals based on start time\n\n    for i in range(1, len(intervals)):\n        if intervals[i][0] < intervals[i - 1][1]:\n            return False\n\n    return True\n",
      "metadata": {
        "trusted": true
      },
      "execution_count": 18,
      "outputs": []
    },
    {
      "cell_type": "code",
      "source": "intervals = [[0, 30], [5, 10], [15, 20]]\nprint(canAttendMeetings(intervals))\n",
      "metadata": {
        "trusted": true
      },
      "execution_count": 19,
      "outputs": [
        {
          "name": "stdout",
          "text": "False\n",
          "output_type": "stream"
        }
      ]
    }
  ]
}