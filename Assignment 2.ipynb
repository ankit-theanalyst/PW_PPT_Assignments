{
  "metadata": {
    "language_info": {
      "codemirror_mode": {
        "name": "python",
        "version": 3
      },
      "file_extension": ".py",
      "mimetype": "text/x-python",
      "name": "python",
      "nbconvert_exporter": "python",
      "pygments_lexer": "ipython3",
      "version": "3.8"
    },
    "kernelspec": {
      "name": "python",
      "display_name": "Python (Pyodide)",
      "language": "python"
    }
  },
  "nbformat_minor": 4,
  "nbformat": 4,
  "cells": [
    {
      "cell_type": "markdown",
      "source": "<aside>\n💡 **Question 1**\nGiven an integer array nums of 2n integers, group these integers into n pairs (a1, b1), (a2, b2),..., (an, bn) such that the sum of min(ai, bi) for all i is maximized. Return the maximized sum.\n\n**Example 1:**\nInput: nums = [1,4,3,2]\nOutput: 4\n\n**Explanation:** All possible pairings (ignoring the ordering of elements) are:\n\n1. (1, 4), (2, 3) -> min(1, 4) + min(2, 3) = 1 + 2 = 3\n2. (1, 3), (2, 4) -> min(1, 3) + min(2, 4) = 1 + 2 = 3\n3. (1, 2), (3, 4) -> min(1, 2) + min(3, 4) = 1 + 3 = 4\nSo the maximum possible sum is 4\n</aside>",
      "metadata": {}
    },
    {
      "cell_type": "code",
      "source": "def arrayPairSum(nums):\n    nums.sort()  # Sort the array in ascending order\n    max_sum = 0  # Initialize the maximum possible sum\n\n    for i in range(0, len(nums), 2):\n        max_sum += min(nums[i], nums[i+1])\n\n    return max_sum\n",
      "metadata": {
        "trusted": true
      },
      "execution_count": 1,
      "outputs": []
    },
    {
      "cell_type": "code",
      "source": "arrayPairSum([2,3,4,5,6,7])",
      "metadata": {
        "trusted": true
      },
      "execution_count": 4,
      "outputs": [
        {
          "execution_count": 4,
          "output_type": "execute_result",
          "data": {
            "text/plain": "12"
          },
          "metadata": {}
        }
      ]
    },
    {
      "cell_type": "markdown",
      "source": "Question 2\nAlice has n candies, where the ith candy is of type candyType[i]. Alice noticed that she started to gain weight, so she visited a doctor. \n\nThe doctor advised Alice to only eat n / 2 of the candies she has (n is always even). Alice likes her candies very much, and she wants to eat the maximum number of different types of candies while still following the doctor's advice. \n\nGiven the integer array candyType of length n, return the maximum number of different types of candies she can eat if she only eats n / 2 of them.\n\nExample 1:\nInput: candyType = [1,1,2,2,3,3]\nOutput: 3\n\nExplanation: Alice can only eat 6 / 2 = 3 candies. Since there are only 3 types, she can eat one of each type.",
      "metadata": {}
    },
    {
      "cell_type": "code",
      "source": "def maxCandies(candyType):\n    unique_candies = set()  # Set to store unique types of candies\n\n    for candy in candyType:\n        unique_candies.add(candy)\n\n    return min(len(unique_candies), len(candyType) // 2)\n",
      "metadata": {
        "trusted": true
      },
      "execution_count": 5,
      "outputs": []
    },
    {
      "cell_type": "code",
      "source": "candyType = [1,1,2,2,3,3]",
      "metadata": {
        "trusted": true
      },
      "execution_count": 6,
      "outputs": []
    },
    {
      "cell_type": "code",
      "source": "maxCandies(candyType)",
      "metadata": {
        "trusted": true
      },
      "execution_count": 7,
      "outputs": [
        {
          "execution_count": 7,
          "output_type": "execute_result",
          "data": {
            "text/plain": "3"
          },
          "metadata": {}
        }
      ]
    },
    {
      "cell_type": "markdown",
      "source": "Question 3\nWe define a harmonious array as an array where the difference between its maximum value\nand its minimum value is exactly 1.\n\nGiven an integer array nums, return the length of its longest harmonious subsequence\namong all its possible subsequences.\n\nA subsequence of an array is a sequence that can be derived from the array by deleting some or no elements without changing the order of the remaining elements.\n\nExample 1:\nInput: nums = [1,3,2,2,5,2,3,7]\nOutput: 5\n\nExplanation: The longest harmonious subsequence is [3,2,2,2,3].",
      "metadata": {}
    },
    {
      "cell_type": "code",
      "source": "from collections import Counter\n\ndef findLHS(nums):\n    frequency = Counter(nums)  # Count the frequency of each number\n    max_length = 0  # Initialize the length of the longest harmonious subsequence\n\n    for num in frequency:\n        if num + 1 in frequency:\n            length = frequency[num] + frequency[num + 1]\n            max_length = max(max_length, length)\n\n    return max_length\n",
      "metadata": {
        "trusted": true
      },
      "execution_count": 8,
      "outputs": []
    },
    {
      "cell_type": "code",
      "source": "nums = [1, 3, 2, 2, 5, 2, 3, 7]\nprint(findLHS(nums))",
      "metadata": {
        "trusted": true
      },
      "execution_count": 9,
      "outputs": [
        {
          "name": "stdout",
          "text": "5\n",
          "output_type": "stream"
        }
      ]
    },
    {
      "cell_type": "markdown",
      "source": "Question 4\nYou have a long flowerbed in which some of the plots are planted, and some are not.\nHowever, flowers cannot be planted in adjacent plots.\nGiven an integer array flowerbed containing 0's and 1's, where 0 means empty and 1 means not empty, and an integer n, return true if n new flowers can be planted in the flowerbed without violating the no-adjacent-flowers rule and false otherwise.\n\nExample 1:\nInput: flowerbed = [1,0,0,0,1], n = 1\nOutput: true",
      "metadata": {}
    },
    {
      "cell_type": "code",
      "source": "def canPlaceFlowers(flowerbed, n):\n    count = 0  # Number of new flowers that can be planted\n\n    for i in range(len(flowerbed)):\n        if flowerbed[i] == 0 and (i == 0 or flowerbed[i-1] == 0) and (i == len(flowerbed)-1 or flowerbed[i+1] == 0):\n            flowerbed[i] = 1  # Plant a new flower\n            count += 1\n\n    return count >= n\n",
      "metadata": {
        "trusted": true
      },
      "execution_count": 10,
      "outputs": []
    },
    {
      "cell_type": "code",
      "source": "flowerbed = [1, 0, 0, 0, 1]\nn = 1\nprint(canPlaceFlowers(flowerbed, n))",
      "metadata": {
        "trusted": true
      },
      "execution_count": 12,
      "outputs": [
        {
          "name": "stdout",
          "text": "True\n",
          "output_type": "stream"
        }
      ]
    },
    {
      "cell_type": "markdown",
      "source": "Question 5\nGiven an integer array nums, find three numbers whose product is maximum and return the maximum product.\n\nExample 1:\nInput: nums = [1,2,3]\nOutput: 6",
      "metadata": {}
    },
    {
      "cell_type": "code",
      "source": "def maximumProduct(nums):\n    nums.sort()  # Sort the array in ascending order\n\n    product1 = nums[-1] * nums[-2] * nums[-3]  # Product of the three largest numbers\n    product2 = nums[0] * nums[1] * nums[-1]  # Product of the two smallest negative numbers and the largest positive number\n\n    return max(product1, product2)\n",
      "metadata": {
        "trusted": true
      },
      "execution_count": 13,
      "outputs": []
    },
    {
      "cell_type": "code",
      "source": "nums = [1, 2, 3]\nprint(maximumProduct(nums))\n",
      "metadata": {
        "trusted": true
      },
      "execution_count": 14,
      "outputs": [
        {
          "name": "stdout",
          "text": "6\n",
          "output_type": "stream"
        }
      ]
    },
    {
      "cell_type": "markdown",
      "source": "Question 6\nGiven an array of integers nums which is sorted in ascending order, and an integer target,\nwrite a function to search target in nums. If target exists, then return its index. Otherwise,\nreturn -1.\n\nYou must write an algorithm with O(log n) runtime complexity.\n\nInput: nums = [-1,0,3,5,9,12], target = 9\nOutput: 4\n\nExplanation: 9 exists in nums and its index is 4",
      "metadata": {}
    },
    {
      "cell_type": "code",
      "source": "def search(nums, target):\n    left, right = 0, len(nums) - 1\n\n    while left <= right:\n        mid = (left + right) // 2\n\n        if nums[mid] == target:\n            return mid\n        elif nums[mid] < target:\n            left = mid + 1\n        else:\n            right = mid - 1\n\n    return -1\n",
      "metadata": {
        "trusted": true
      },
      "execution_count": 15,
      "outputs": []
    },
    {
      "cell_type": "code",
      "source": "nums = [-1, 0, 3, 5, 9, 12]\ntarget = 9\nprint(search(nums, target))\n",
      "metadata": {
        "trusted": true
      },
      "execution_count": 17,
      "outputs": [
        {
          "name": "stdout",
          "text": "4\n",
          "output_type": "stream"
        }
      ]
    },
    {
      "cell_type": "markdown",
      "source": "Question 7\nAn array is monotonic if it is either monotone increasing or monotone decreasing.\n\nAn array nums is monotone increasing if for all i <= j, nums[i] <= nums[j]. An array nums is\nmonotone decreasing if for all i <= j, nums[i] >= nums[j].\n\nGiven an integer array nums, return true if the given array is monotonic, or false otherwise.\n\nExample 1:\nInput: nums = [1,2,2,3]\nOutput: true",
      "metadata": {}
    },
    {
      "cell_type": "code",
      "source": "def isMonotonic(nums):\n    isIncreasing = True\n    isDecreasing = True\n\n    for i in range(1, len(nums)):\n        if nums[i] < nums[i - 1]:\n            isIncreasing = False\n        if nums[i] > nums[i - 1]:\n            isDecreasing = False\n        if not isIncreasing and not isDecreasing:\n            return False\n\n    return True\n",
      "metadata": {
        "trusted": true
      },
      "execution_count": 18,
      "outputs": []
    },
    {
      "cell_type": "code",
      "source": "nums = [1, 2, 2, 3]\nprint(isMonotonic(nums))\n",
      "metadata": {
        "trusted": true
      },
      "execution_count": 20,
      "outputs": [
        {
          "name": "stdout",
          "text": "True\n",
          "output_type": "stream"
        }
      ]
    },
    {
      "cell_type": "markdown",
      "source": "Question 8\nYou are given an integer array nums and an integer k.\n\nIn one operation, you can choose any index i where 0 <= i < nums.length and change nums[i] to nums[i] + x where x is an integer from the range [-k, k]. You can apply this operation at most once for each index i.\n\nThe score of nums is the difference between the maximum and minimum elements in nums.\n\nReturn the minimum score of nums after applying the mentioned operation at most once for each index in it.\n\nExample 1:\nInput: nums = [1], k = 0\nOutput: 0\n\nExplanation: The score is max(nums) - min(nums) = 1 - 1 = 0.",
      "metadata": {}
    },
    {
      "cell_type": "code",
      "source": "def minimumScore(nums, k):\n    maximum = max(nums)\n    minimum = min(nums)\n\n    if maximum - minimum <= 2 * k:\n        return 0\n\n    median = (maximum + minimum) // 2\n    maximum = median + k\n    minimum = median - k\n\n    return maximum - minimum\n",
      "metadata": {
        "trusted": true
      },
      "execution_count": 21,
      "outputs": []
    },
    {
      "cell_type": "code",
      "source": "nums = [1]\nk = 0\nprint(minimumScore(nums, k))\n",
      "metadata": {
        "trusted": true
      },
      "execution_count": 23,
      "outputs": [
        {
          "name": "stdout",
          "text": "0\n",
          "output_type": "stream"
        }
      ]
    },
    {
      "cell_type": "code",
      "source": "",
      "metadata": {},
      "execution_count": null,
      "outputs": []
    }
  ]
}